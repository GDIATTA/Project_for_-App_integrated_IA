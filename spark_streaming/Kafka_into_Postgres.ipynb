{
 "cells": [
  {
   "cell_type": "code",
   "execution_count": 1,
   "id": "f2d4e868-6c46-4171-a9d2-5135e17531f1",
   "metadata": {},
   "outputs": [
    {
     "name": "stdout",
     "output_type": "stream",
     "text": [
      "Collecting psycopg2-binary\n",
      "  Using cached psycopg2_binary-2.9.9-cp310-cp310-manylinux_2_17_x86_64.manylinux2014_x86_64.whl (3.0 MB)\n",
      "Installing collected packages: psycopg2-binary\n",
      "Successfully installed psycopg2-binary-2.9.9\n"
     ]
    }
   ],
   "source": [
    "!pip install psycopg2-binary"
   ]
  },
  {
   "cell_type": "code",
   "execution_count": 15,
   "id": "181662e5-f2f7-4771-bb0a-839ffbcd0981",
   "metadata": {},
   "outputs": [
    {
     "data": {
      "text/html": [
       "\n",
       "            <div>\n",
       "                <p><b>SparkSession - in-memory</b></p>\n",
       "                \n",
       "        <div>\n",
       "            <p><b>SparkContext</b></p>\n",
       "\n",
       "            <p><a href=\"http://75c17d392a10:4041\">Spark UI</a></p>\n",
       "\n",
       "            <dl>\n",
       "              <dt>Version</dt>\n",
       "                <dd><code>v3.3.0</code></dd>\n",
       "              <dt>Master</dt>\n",
       "                <dd><code>local[*]</code></dd>\n",
       "              <dt>AppName</dt>\n",
       "                <dd><code>Streaming from Kafka into Postgresql</code></dd>\n",
       "            </dl>\n",
       "        </div>\n",
       "        \n",
       "            </div>\n",
       "        "
      ],
      "text/plain": [
       "<pyspark.sql.session.SparkSession at 0x7fbaa0612380>"
      ]
     },
     "execution_count": 15,
     "metadata": {},
     "output_type": "execute_result"
    }
   ],
   "source": [
    "# Create the Spark Session\n",
    "from pyspark.sql import SparkSession\n",
    "from pyspark.sql.types import StringType, StructField, StructType\n",
    "from pyspark.sql.functions import from_json, col, regexp_replace, expr\n",
    "import psycopg2\n",
    "import logging\n",
    "spark = (\n",
    "    SparkSession \n",
    "    .builder \n",
    "    .appName(\"Streaming from Kafka into Postgresql\") \n",
    "    .config(\"spark.streaming.stopGracefullyOnShutdown\", True)\n",
    "    .config('spark.jars.packages', \"org.apache.spark:spark-sql-kafka-0-10_2.12:3.3.0,org.postgresql:postgresql:42.7.3\")\n",
    "    .config(\"spark.sql.shuffle.partitions\", 4)\n",
    "    .master(\"local[*]\") \n",
    "    .getOrCreate()\n",
    ")\n",
    "\n",
    "spark"
   ]
  },
  {
   "cell_type": "code",
   "execution_count": 16,
   "id": "b6ba5a37-6b5c-4983-b78a-cdad1495991e",
   "metadata": {},
   "outputs": [],
   "source": [
    "# Create the kafka_df to read from kafka\n",
    "\n",
    "kafka_df = (\n",
    "    spark\n",
    "    .readStream\n",
    "    .format(\"kafka\")\n",
    "    .option(\"kafka.bootstrap.servers\", \"kafka2:29093\")\n",
    "    .option(\"subscribe\", \"shopify.items\")\n",
    "    .option(\"startingOffsets\", \"earliest\")\n",
    "    .load()\n",
    ")"
   ]
  },
  {
   "cell_type": "code",
   "execution_count": 17,
   "id": "c47fee57-bee2-4227-b62c-d6501ec2db24",
   "metadata": {},
   "outputs": [
    {
     "name": "stdout",
     "output_type": "stream",
     "text": [
      "root\n",
      " |-- key: binary (nullable = true)\n",
      " |-- value: binary (nullable = true)\n",
      " |-- topic: string (nullable = true)\n",
      " |-- partition: integer (nullable = true)\n",
      " |-- offset: long (nullable = true)\n",
      " |-- timestamp: timestamp (nullable = true)\n",
      " |-- timestampType: integer (nullable = true)\n",
      "\n"
     ]
    }
   ],
   "source": [
    "# View schema for raw kafka_df\n",
    "kafka_df.printSchema()\n",
    "#kafka_df.show()"
   ]
  },
  {
   "cell_type": "code",
   "execution_count": 18,
   "id": "33658587-a045-4549-b97c-6379c92752c7",
   "metadata": {},
   "outputs": [],
   "source": [
    "# Cast key and value columns to STRING and remove backslashes\n",
    "kafka_df = kafka_df.selectExpr(\"CAST(key AS STRING)\", \"CAST(value AS STRING)\")\n",
    "kafka_df = kafka_df.withColumn(\"key\", regexp_replace(col(\"key\"), \"\\\\\\\\\", \"\"))\n",
    "kafka_df = kafka_df.withColumn(\"value\", regexp_replace(col(\"value\"), \"\\\\\\\\\", \"\"))"
   ]
  },
  {
   "cell_type": "code",
   "execution_count": 19,
   "id": "d611a53e-ccd1-44bf-9ecb-62770a19b372",
   "metadata": {},
   "outputs": [
    {
     "name": "stdout",
     "output_type": "stream",
     "text": [
      "root\n",
      " |-- key: string (nullable = true)\n",
      " |-- value: string (nullable = true)\n",
      "\n"
     ]
    }
   ],
   "source": [
    "kafka_df.printSchema()\n",
    "#kafka_df.show(truncate=False)"
   ]
  },
  {
   "cell_type": "code",
   "execution_count": 20,
   "id": "fe6fa3b3-3497-4077-bd37-2cae02f94ba3",
   "metadata": {},
   "outputs": [],
   "source": [
    "# Extract the payload JSON string from the value column\n",
    "# Remove the `schema` part to focus on the `payload`\n",
    "value_payload_df = kafka_df.withColumn(\"payload\", expr(\"substring(value, instr(value, 'payload') + 10, length(value) - instr(value, 'payload') - 11)\"))"
   ]
  },
  {
   "cell_type": "code",
   "execution_count": 21,
   "id": "7cba4251-e665-4855-b1af-2b819bb99e28",
   "metadata": {},
   "outputs": [],
   "source": [
    "# Define the schema for the payload\n",
    "payload_schema = StructType([\n",
    "    StructField(\"_id\", StructType([StructField(\"$oid\", StringType(), True)]), True),\n",
    "    StructField(\"name\", StringType(), True),\n",
    "    StructField(\"price\", StringType(), True),\n",
    "    StructField(\"category\", StringType(), True),\n",
    "    StructField(\"instock\", StringType(), True),\n",
    "    StructField(\"tags\", StringType(), True),\n",
    "    StructField(\"description\", StringType(), True),\n",
    "    StructField(\"filename\", StringType(), True)\n",
    "])"
   ]
  },
  {
   "cell_type": "code",
   "execution_count": 22,
   "id": "466db9f0-34a4-477d-94b9-5db21f2a4ecf",
   "metadata": {},
   "outputs": [],
   "source": [
    "# Parse the payload JSON string using the defined schema\n",
    "parsed_df = value_payload_df.withColumn(\"data\", from_json(col(\"payload\"), payload_schema))"
   ]
  },
  {
   "cell_type": "code",
   "execution_count": 23,
   "id": "2227b88b-cb2a-480c-b1e0-02903d750c3d",
   "metadata": {},
   "outputs": [
    {
     "name": "stdout",
     "output_type": "stream",
     "text": [
      "root\n",
      " |-- key: string (nullable = true)\n",
      " |-- value: string (nullable = true)\n",
      " |-- payload: string (nullable = true)\n",
      " |-- data: struct (nullable = true)\n",
      " |    |-- _id: struct (nullable = true)\n",
      " |    |    |-- $oid: string (nullable = true)\n",
      " |    |-- name: string (nullable = true)\n",
      " |    |-- price: string (nullable = true)\n",
      " |    |-- category: string (nullable = true)\n",
      " |    |-- instock: string (nullable = true)\n",
      " |    |-- tags: string (nullable = true)\n",
      " |    |-- description: string (nullable = true)\n",
      " |    |-- filename: string (nullable = true)\n",
      "\n"
     ]
    }
   ],
   "source": [
    "parsed_df.printSchema()\n",
    "#parsed_df.show(truncate=False)"
   ]
  },
  {
   "cell_type": "code",
   "execution_count": 24,
   "id": "b64a9253-9200-4de6-b392-0cddac6c2910",
   "metadata": {},
   "outputs": [],
   "source": [
    "# Select individual fields from the parsed JSON data\n",
    "final_df = parsed_df.select(\n",
    "    col(\"data._id.$oid\").alias(\"_id\"),\n",
    "    col(\"data.name\").alias(\"name\"),\n",
    "    col(\"data.price\").alias(\"price\"),\n",
    "    col(\"data.category\").alias(\"category\"),\n",
    "    col(\"data.instock\").alias(\"instock\"),\n",
    "    col(\"data.tags\").alias(\"tags\"),\n",
    "    col(\"data.description\").alias(\"description\"),\n",
    "    col(\"data.filename\").alias(\"filename\")\n",
    ")"
   ]
  },
  {
   "cell_type": "code",
   "execution_count": 25,
   "id": "b70d1920-6f09-4a60-8638-bfdf3055f673",
   "metadata": {},
   "outputs": [
    {
     "name": "stdout",
     "output_type": "stream",
     "text": [
      "root\n",
      " |-- _id: string (nullable = true)\n",
      " |-- name: string (nullable = true)\n",
      " |-- price: string (nullable = true)\n",
      " |-- category: string (nullable = true)\n",
      " |-- instock: string (nullable = true)\n",
      " |-- tags: string (nullable = true)\n",
      " |-- description: string (nullable = true)\n",
      " |-- filename: string (nullable = true)\n",
      "\n"
     ]
    }
   ],
   "source": [
    "final_df.printSchema()\n",
    "#final_df.show(truncate=False)"
   ]
  },
  {
   "cell_type": "code",
   "execution_count": 26,
   "id": "3469df17-850e-40fc-bc9f-d84c8ac88299",
   "metadata": {},
   "outputs": [],
   "source": [
    "# Write the stream to the console\n",
    "query = final_df \\\n",
    "    .writeStream \\\n",
    "    .outputMode(\"append\") \\\n",
    "    .format(\"console\") \\\n",
    "    .start()"
   ]
  },
  {
   "cell_type": "code",
   "execution_count": null,
   "id": "ea5c55fb-8089-49f3-a3ec-1093867167df",
   "metadata": {},
   "outputs": [],
   "source": [
    "query.awaitTermination()"
   ]
  },
  {
   "cell_type": "code",
   "execution_count": 201,
   "id": "f81159ca-b3da-4f71-8875-b9818a2dc669",
   "metadata": {},
   "outputs": [],
   "source": [
    "def create_table(connection):\n",
    "    with connection.cursor() as cursor:\n",
    "        cursor.execute(\"\"\"\n",
    "        CREATE TABLE IF NOT EXISTS items (\n",
    "            id serial PRIMARY KEY,\n",
    "            _id varchar(100) NOT NULL,\n",
    "            name varchar(100) NOT NULL,\n",
    "            price varchar(20) NOT NULL,\n",
    "            category varchar(100) NOT NULL,\n",
    "            instock varchar(10) NOT NULL,\n",
    "            tags varchar(100) NOT NULL,\n",
    "            description text,\n",
    "            filename varchar(200) NOT NULL\n",
    "        );\n",
    "        \"\"\")\n",
    "        connection.commit()\n",
    "        print(\"Table created successfully!\")"
   ]
  },
  {
   "cell_type": "code",
   "execution_count": 202,
   "id": "899e04bb-ea72-46f9-8f76-ad596367331d",
   "metadata": {},
   "outputs": [],
   "source": [
    "def insert_data(connection, **kwargs):\n",
    "    print(\"Inserting data...\")\n",
    "\n",
    "    _id = kwargs.get('_id')\n",
    "    name = kwargs.get('name')\n",
    "    price = kwargs.get('price')\n",
    "    category = kwargs.get('category')\n",
    "    instock = kwargs.get('instock')\n",
    "    tags = kwargs.get('tags')\n",
    "    description = kwargs.get('description')\n",
    "    filename = kwargs.get('filename')\n",
    "\n",
    "    try:\n",
    "        with connection.cursor() as cursor:\n",
    "            cursor.execute(\n",
    "                'insert into items (_id,name,price,category,instock,tags,description,filename)'\n",
    "                    'VALUES (%s,%s,%s,%s,%s,%s,%s,%s)',\n",
    "                    (_id,name,price,category,instock,tags,description,filename))\n",
    "            connection.commit()\n",
    "            logging.info(f\"Data inserted for {_id} {name}\")\n",
    "    except Exception as e:\n",
    "        logging.error(f'Could not insert data due to {e}')\n",
    "        connection.rollback()"
   ]
  },
  {
   "cell_type": "code",
   "execution_count": 203,
   "id": "ba08903b-0ae6-40dc-b245-822fe5f6483a",
   "metadata": {},
   "outputs": [],
   "source": [
    "def create_postgres_connection():\n",
    "    try:\n",
    "        # Connecting to the PostgreSQL database\n",
    "        connection = psycopg2.connect(\n",
    "            dbname=\"postgres_dw\",\n",
    "            user=\"gauss\",\n",
    "            password=\"root\",\n",
    "            host=\"postgres_db\",\n",
    "            port=\"5432\"\n",
    "        )\n",
    "        return connection\n",
    "    except Exception as e:\n",
    "        logging.error(f\"Could not create PostgreSQL connection due to {e}\")\n",
    "        return None"
   ]
  },
  {
   "cell_type": "code",
   "execution_count": null,
   "id": "9dffbbe2-d196-46b7-a768-bdb1fd43474b",
   "metadata": {},
   "outputs": [
    {
     "name": "stdout",
     "output_type": "stream",
     "text": [
      "Table created successfully!\n",
      "Inserting data...\n",
      "Inserting data...\n",
      "Inserting data...\n",
      "Inserting data...\n"
     ]
    },
    {
     "name": "stderr",
     "output_type": "stream",
     "text": [
      "ERROR:root:Could not insert data due to null value in column \"price\" of relation \"items\" violates not-null constraint\n",
      "DETAIL:  Failing row contains (17, 666d9507d06a80d7d8962131, robe, null, femme, t, version3, summer, product.jpg).\n",
      "\n",
      "ERROR:root:Could not insert data due to can't adapt type 'Column'\n",
      "ERROR:root:Could not insert data due to null value in column \"price\" of relation \"items\" violates not-null constraint\n",
      "DETAIL:  Failing row contains (20, 666d9507d06a80d7d8962131, robe, null, femme, t, version3, summer, product.jpg).\n",
      "\n",
      "ERROR:root:Could not insert data due to can't adapt type 'Column'\n"
     ]
    },
    {
     "name": "stdout",
     "output_type": "stream",
     "text": [
      "Inserting data...\n",
      "Inserting data...\n",
      "Inserting data...\n",
      "Inserting data...\n",
      "Inserting data...\n",
      "Inserting data...\n"
     ]
    }
   ],
   "source": [
    "# Create PostgreSQL connection\n",
    "connection = create_postgres_connection()\n",
    "if connection is not None:\n",
    "    create_table(connection)\n",
    "\n",
    "    logging.info(\"Streaming is being started...\")\n",
    "\n",
    "    def write_to_postgres(batch_df, batch_id):\n",
    "        for row in batch_df.collect():\n",
    "            insert_data(connection,\n",
    "                        _id=row['_id'],\n",
    "                        name=row['name'],\n",
    "                        price=row['price'],\n",
    "                        category=row['category'],\n",
    "                        instock=row['instock'],\n",
    "                        tags=row['tags'],\n",
    "                        description=row['description'],\n",
    "                        filename=row['filename'])\n",
    "\n",
    "    streaming_query = (final_df.writeStream\n",
    "                       .foreachBatch(write_to_postgres)\n",
    "                       .outputMode(\"append\")\n",
    "                       .start().awaitTermination())\n",
    "\n",
    "    connection.close()"
   ]
  },
  {
   "cell_type": "code",
   "execution_count": null,
   "id": "657fafab-bf99-4ba1-ae1a-380f23e18f30",
   "metadata": {},
   "outputs": [],
   "source": []
  }
 ],
 "metadata": {
  "kernelspec": {
   "display_name": "Python 3 (ipykernel)",
   "language": "python",
   "name": "python3"
  },
  "language_info": {
   "codemirror_mode": {
    "name": "ipython",
    "version": 3
   },
   "file_extension": ".py",
   "mimetype": "text/x-python",
   "name": "python",
   "nbconvert_exporter": "python",
   "pygments_lexer": "ipython3",
   "version": "3.10.6"
  }
 },
 "nbformat": 4,
 "nbformat_minor": 5
}
