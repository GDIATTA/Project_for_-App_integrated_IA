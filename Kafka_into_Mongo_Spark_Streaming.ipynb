{
 "cells": [
  {
   "cell_type": "code",
   "execution_count": 1,
   "id": "777ae2bd-6466-40a9-a89f-5980ac8c358f",
   "metadata": {},
   "outputs": [
    {
     "data": {
      "text/html": [
       "\n",
       "            <div>\n",
       "                <p><b>SparkSession - in-memory</b></p>\n",
       "                \n",
       "        <div>\n",
       "            <p><b>SparkContext</b></p>\n",
       "\n",
       "            <p><a href=\"http://c58ee539a66f:4040\">Spark UI</a></p>\n",
       "\n",
       "            <dl>\n",
       "              <dt>Version</dt>\n",
       "                <dd><code>v3.3.0</code></dd>\n",
       "              <dt>Master</dt>\n",
       "                <dd><code>local[*]</code></dd>\n",
       "              <dt>AppName</dt>\n",
       "                <dd><code>Streaming from Kafka into Mongodb</code></dd>\n",
       "            </dl>\n",
       "        </div>\n",
       "        \n",
       "            </div>\n",
       "        "
      ],
      "text/plain": [
       "<pyspark.sql.session.SparkSession at 0x7eff609f42e0>"
      ]
     },
     "execution_count": 1,
     "metadata": {},
     "output_type": "execute_result"
    }
   ],
   "source": [
    "# Create the Spark Session\n",
    "from pyspark.sql import SparkSession\n",
    "\n",
    "# MongoDB connection details\n",
    "#username = \"your_username\"\n",
    "#password = \"your_password\"\n",
    "#ip_address = \"172.18.0.2\"\n",
    "port = 27017\n",
    "#uri = f\"mongodb://{username}:{password}@{ip_address}:{port}/{db_name}.{collection_name}?authSource=admin\"\n",
    "uri = \"mongodb://mongo1\"\n",
    "spark = (\n",
    "    SparkSession \n",
    "    .builder \n",
    "    .appName(\"Streaming from Kafka into Mongodb\") \n",
    "    .config(\"spark.streaming.stopGracefullyOnShutdown\", True)\n",
    "    .config('spark.jars.packages', \"org.apache.spark:spark-sql-kafka-0-10_2.12:3.3.0,org.mongodb.spark:mongo-spark-connector_2.12:10.3.0\")\n",
    "    .config(\"spark.mongodb.input.uri\", uri)\n",
    "    .config(\"spark.sql.catalog.myCatalog\", \"com.mongodb.spark.sql.v2.MongoCatalog\")\n",
    "    .config(\"spark.sql.extensions\", \"com.mongodb.spark.sql.v2.MongoSparkExtensions\")\n",
    "    .config(\"spark.sql.shuffle.partitions\", 4)\n",
    "    .master(\"local[*]\") \n",
    "    .getOrCreate()\n",
    ")\n",
    "\n",
    "spark"
   ]
  },
  {
   "cell_type": "code",
   "execution_count": 2,
   "id": "40f9b68d-9236-43b0-8f7e-ef4d6a338b89",
   "metadata": {},
   "outputs": [],
   "source": [
    "# Create the kafka_df to read from kafka\n",
    "\n",
    "kafka_df = (\n",
    "    spark\n",
    "    .readStream\n",
    "    .format(\"kafka\")\n",
    "    .option(\"kafka.bootstrap.servers\", \"kafka1:29092\")\n",
    "    .option(\"subscribe\", \"items_shopify_posted\")\n",
    "    .option(\"startingOffsets\", \"earliest\")\n",
    "    .load()\n",
    ")"
   ]
  },
  {
   "cell_type": "code",
   "execution_count": 3,
   "id": "424615bb-898b-4147-985c-183e0ecc394a",
   "metadata": {},
   "outputs": [
    {
     "name": "stdout",
     "output_type": "stream",
     "text": [
      "root\n",
      " |-- key: binary (nullable = true)\n",
      " |-- value: binary (nullable = true)\n",
      " |-- topic: string (nullable = true)\n",
      " |-- partition: integer (nullable = true)\n",
      " |-- offset: long (nullable = true)\n",
      " |-- timestamp: timestamp (nullable = true)\n",
      " |-- timestampType: integer (nullable = true)\n",
      "\n"
     ]
    }
   ],
   "source": [
    "# View schema for raw kafka_df\n",
    "kafka_df.printSchema()\n",
    "#kafka_df.show()"
   ]
  },
  {
   "cell_type": "code",
   "execution_count": 4,
   "id": "d496e7bc-4d92-4e17-99f6-63e3b48e221c",
   "metadata": {},
   "outputs": [],
   "source": [
    "from pyspark.sql.types import StringType, StructField, StructType, ArrayType, LongType\n",
    "schema = StructType([\n",
    "        StructField(\"name\", StringType(), True),\n",
    "        StructField(\"price\", StringType(), True),\n",
    "        StructField(\"category\", StringType(), True),\n",
    "        StructField(\"instock\", StringType(), True),\n",
    "        StructField(\"tags\", StringType(), True),\n",
    "        StructField(\"description\", StringType(), False),\n",
    "        StructField(\"filename\", StringType(), True)\n",
    "    ])\n"
   ]
  },
  {
   "cell_type": "code",
   "execution_count": 5,
   "id": "cf50e203-d9d4-41dd-b367-7cb759a42805",
   "metadata": {},
   "outputs": [],
   "source": [
    "from pyspark.sql.functions import from_json,col\n",
    "streaming_df = kafka_df.selectExpr(\"CAST(value AS STRING)\") \\\n",
    "        .select(from_json(col('value'), schema).alias('data')).select(\"data.*\")"
   ]
  },
  {
   "cell_type": "code",
   "execution_count": 6,
   "id": "c3c29c68-d77e-4efb-a61b-67d6ff4dd667",
   "metadata": {},
   "outputs": [
    {
     "name": "stdout",
     "output_type": "stream",
     "text": [
      "Collecting pymongo\n",
      "  Downloading pymongo-4.7.3-cp310-cp310-manylinux_2_17_x86_64.manylinux2014_x86_64.whl (669 kB)\n",
      "\u001b[2K     \u001b[90m━━━━━━━━━━━━━━━━━━━━━━━━━━━━━━━━━━━━━━━\u001b[0m \u001b[32m669.1/669.1 kB\u001b[0m \u001b[31m3.6 MB/s\u001b[0m eta \u001b[36m0:00:00\u001b[0m00:01\u001b[0m00:01\u001b[0m\n",
      "\u001b[?25hCollecting dnspython<3.0.0,>=1.16.0\n",
      "  Downloading dnspython-2.6.1-py3-none-any.whl (307 kB)\n",
      "\u001b[2K     \u001b[90m━━━━━━━━━━━━━━━━━━━━━━━━━━━━━━━━━━━━━━━\u001b[0m \u001b[32m307.7/307.7 kB\u001b[0m \u001b[31m3.5 MB/s\u001b[0m eta \u001b[36m0:00:00\u001b[0ma \u001b[36m0:00:01\u001b[0m\n",
      "\u001b[?25hInstalling collected packages: dnspython, pymongo\n",
      "Successfully installed dnspython-2.6.1 pymongo-4.7.3\n"
     ]
    }
   ],
   "source": [
    "! pip install pymongo"
   ]
  },
  {
   "cell_type": "code",
   "execution_count": 7,
   "id": "65695e60-b13c-4f35-9cd5-43f60287c2cf",
   "metadata": {},
   "outputs": [],
   "source": [
    "# Function to create MongoDB database\n",
    "def create_database(client, db_name):\n",
    "    db = client[db_name]\n",
    "    print(f\"Database '{db_name}' created successfully!\")\n",
    "    return db"
   ]
  },
  {
   "cell_type": "code",
   "execution_count": 8,
   "id": "c6a943b2-b7b4-4675-b3cf-e6ce386e95da",
   "metadata": {},
   "outputs": [],
   "source": [
    "# Function to create MongoDB collection\n",
    "def create_collection(db, collection_name):\n",
    "    collection = db[collection_name]\n",
    "    return collection"
   ]
  },
  {
   "cell_type": "code",
   "execution_count": 9,
   "id": "07d4bf19-3c3e-4248-95cf-c7cf65b19902",
   "metadata": {},
   "outputs": [],
   "source": [
    "import logging\n",
    "from pymongo import MongoClient, errors\n",
    "# Function to insert data into MongoDB collection\n",
    "def insert_data(collection, **kwargs):\n",
    "    print(\"Inserting data...\")\n",
    "\n",
    "    document = {\n",
    "        'name': kwargs.get('name'),\n",
    "        'price': kwargs.get('price'),\n",
    "        'category': kwargs.get('category'),\n",
    "        'instock': kwargs.get('instock'),\n",
    "        'tags': kwargs.get('tags'),\n",
    "        'description': kwargs.get('description'),\n",
    "        'filename': kwargs.get('filename')\n",
    "    }\n",
    "\n",
    "    try:\n",
    "        collection.insert_one(document)\n",
    "        logging.info(f\"Data inserted for {document['name']}\")\n",
    "    except errors.DuplicateKeyError:\n",
    "        logging.error(f\"Document with phone {document['name']} already exists\")\n",
    "    except Exception as e:\n",
    "        logging.error(f\"Could not insert data due to {e}\")"
   ]
  },
  {
   "cell_type": "code",
   "execution_count": 10,
   "id": "3e6bce72-8077-494a-932f-5617b6c47bf6",
   "metadata": {},
   "outputs": [],
   "source": [
    "# Function to create MongoDB connection\n",
    "def create_mongo_connection(uri):\n",
    "    try:\n",
    "        client = MongoClient(uri)\n",
    "        return client\n",
    "    except Exception as e:\n",
    "        logging.error(f\"Could not create MongoDB connection due to {e}\")\n",
    "        return None"
   ]
  },
  {
   "cell_type": "code",
   "execution_count": 11,
   "id": "f59ef875-f9f5-40c7-9d52-63059227fed0",
   "metadata": {},
   "outputs": [
    {
     "name": "stdout",
     "output_type": "stream",
     "text": [
      "root\n",
      " |-- name: string (nullable = true)\n",
      " |-- price: string (nullable = true)\n",
      " |-- category: string (nullable = true)\n",
      " |-- instock: string (nullable = true)\n",
      " |-- tags: string (nullable = true)\n",
      " |-- description: string (nullable = true)\n",
      " |-- filename: string (nullable = true)\n",
      "\n"
     ]
    }
   ],
   "source": [
    "# To the schema of the data, place a sample json file and change readStream to read \n",
    "streaming_df.printSchema()\n",
    "#streaming_df.show(truncate=False)"
   ]
  },
  {
   "cell_type": "code",
   "execution_count": null,
   "id": "636f51fe-bed4-428c-acbe-e34d1608f7fe",
   "metadata": {},
   "outputs": [
    {
     "name": "stdout",
     "output_type": "stream",
     "text": [
      "Database 'shopify' created successfully!\n"
     ]
    }
   ],
   "source": [
    "client = create_mongo_connection(uri)\n",
    "if client is not None:\n",
    "    db_name = \"shopify\"\n",
    "    collection_name = \"items\"\n",
    "    db = create_database(client, db_name)\n",
    "    collection = create_collection(db, collection_name)\n",
    "    \n",
    "    logging.info(\"Streaming is being started...\")\n",
    "\n",
    "    # Example insert data\n",
    "    #insert_data(collection,\n",
    "    #            name=\"t-shirt\",\n",
    "    #            price=\"20\",\n",
    "    #            category=\"vetement été\",\n",
    "    #            instock=true,\n",
    "   #             tags=\"version1\",\n",
    "   #             description=\"good\",\n",
    "   #             filename=\"product.png\"\n",
    "\n",
    "\n",
    "    # Assuming you have a streaming DataFrame `streaming_df` with Spark\n",
    "    streaming_query = (streaming_df.writeStream\n",
    "                       .format(\"mongodb\")\n",
    "                       .outputMode(\"append\")\n",
    "                       .option(\"checkpointLocation\", \"checkpoint_dir_kafka\")\n",
    "                       .option(\"'spark.mongodb.connection.uri'\", uri)\n",
    "                       .option(\"database\", db_name)\n",
    "                       .option(\"collection\", collection_name)\n",
    "                       .start()\n",
    "                       .awaitTermination())"
   ]
  },
  {
   "cell_type": "code",
   "execution_count": null,
   "id": "dde3cdff-d592-4ca4-bd71-d926a58c603a",
   "metadata": {},
   "outputs": [],
   "source": []
  }
 ],
 "metadata": {
  "kernelspec": {
   "display_name": "Python 3 (ipykernel)",
   "language": "python",
   "name": "python3"
  },
  "language_info": {
   "codemirror_mode": {
    "name": "ipython",
    "version": 3
   },
   "file_extension": ".py",
   "mimetype": "text/x-python",
   "name": "python",
   "nbconvert_exporter": "python",
   "pygments_lexer": "ipython3",
   "version": "3.10.6"
  }
 },
 "nbformat": 4,
 "nbformat_minor": 5
}
